{
 "cells": [
  {
   "cell_type": "code",
   "execution_count": null,
   "metadata": {},
   "outputs": [],
   "source": [
    "import os\n",
    "from os import path as op\n",
    "\n",
    "import numpy as np\n",
    "import pandas as pd\n",
    "from scipy import stats\n",
    "from scipy import linalg\n",
    "\n",
    "import vlgp\n",
    "from vlgp import util, simulation\n",
    "\n",
    "import matplotlib as mpl\n",
    "%matplotlib inline\n",
    "import matplotlib.pyplot as plt\n",
    "from mpl_toolkits.mplot3d import Axes3D\n",
    "plt.style.use('dark_background')\n",
    "\n",
    "import pickle"
   ]
  },
  {
   "cell_type": "markdown",
   "metadata": {},
   "source": [
    "### Load vlgp data"
   ]
  },
  {
   "cell_type": "code",
   "execution_count": null,
   "metadata": {},
   "outputs": [],
   "source": [
    "with open('data/vlgpTrials.pickle', 'rb') as filename:\n",
    "    trials = pickle.load(filename)\n",
    "    \n",
    "behav = pd.read_csv('data/RT_cue_choice.csv',header=None, names=['RT','cue','choice'])"
   ]
  },
  {
   "cell_type": "code",
   "execution_count": null,
   "metadata": {},
   "outputs": [],
   "source": [
    "# add a movement onset column\n",
    "behav['mvmt'] = behav['RT'] + 400"
   ]
  },
  {
   "cell_type": "code",
   "execution_count": null,
   "metadata": {},
   "outputs": [],
   "source": [
    "behav.head()"
   ]
  },
  {
   "cell_type": "markdown",
   "metadata": {},
   "source": [
    "### Apply vlgp to all trials with 4 latent dimensions"
   ]
  },
  {
   "cell_type": "code",
   "execution_count": null,
   "metadata": {},
   "outputs": [],
   "source": [
    "np.random.seed(0) # for reproducibility\n",
    "\n",
    "# get 100 random trials\n",
    "possible = np.arange(len(trials))\n",
    "np.random.shuffle(possible)\n",
    "picks = possible[:100]\n",
    "temp = []\n",
    "for i in picks:\n",
    "    temp.append(trials[i])\n",
    "trials = temp\n",
    "\n",
    "# vlgp\n",
    "fit = vlgp.fit(\n",
    "    trials,  \n",
    "    n_factors=4,  # dimensionality of latent process\n",
    "    max_iter=20,  # maximum number of iterations\n",
    "    min_iter=10  # minimum number of iterations\n",
    ")"
   ]
  },
  {
   "cell_type": "markdown",
   "metadata": {},
   "source": [
    "### Plotting"
   ]
  },
  {
   "cell_type": "code",
   "execution_count": null,
   "metadata": {},
   "outputs": [],
   "source": [
    "# pickle data\n",
    "with open('data/vlgp_fit_4_dim.pickle', 'rb') as filename:\n",
    "    fit = pickle.load(filename)"
   ]
  },
  {
   "cell_type": "code",
   "execution_count": null,
   "metadata": {},
   "outputs": [],
   "source": [
    "fit"
   ]
  },
  {
   "cell_type": "code",
   "execution_count": null,
   "metadata": {},
   "outputs": [],
   "source": [
    "trials = fit['trials']"
   ]
  },
  {
   "cell_type": "code",
   "execution_count": null,
   "metadata": {},
   "outputs": [],
   "source": [
    "# plot latent trajectories and averaged trajectory (all time points)\n",
    "\n",
    "f = plt.figure(figsize=(15, 10))\n",
    "ax1 = f.add_subplot(3, 2, 1, projection='3d')\n",
    "\n",
    "ax1.set_title('Latent dynamics')\n",
    "ax1.set_xlabel('Dim 1')\n",
    "ax1.set_ylabel('Dim 2')\n",
    "ax1.set_zlabel('Dim 3')\n",
    "collection = []\n",
    "for trial in trials:\n",
    "    ax1.plot(trial['mu'][0], trial['mu'][1], trial['mu'][2], '-', lw=0.5, c='C0', alpha=0.5)\n",
    "    collection.append(trial['mu'])\n",
    "    \n",
    "# average_trajectory = np.mean(trajectories_all, axis=0)\n",
    "# ax1.plot(average_trajectory[0], average_trajectory[1], average_trajectory[2], '-', lw=linewidth_trial_average, c=color_trial_average, label='Trial averaged trajectory')\n",
    "# ax1.scatter(average_trajectory[0][checkOnIdx], average_trajectory[1][checkOnIdx], average_trajectory[2][checkOnIdx], s=100, c='C5')\n",
    "ax1.xaxis.set_ticklabels([])\n",
    "ax1.yaxis.set_ticklabels([])\n",
    "ax1.zaxis.set_ticklabels([])\n",
    "ax1.grid(False)\n",
    "ax1.legend(loc='best')\n"
   ]
  },
  {
   "cell_type": "code",
   "execution_count": null,
   "metadata": {},
   "outputs": [],
   "source": [
    "# get fast and slow trials for plotting\n",
    "quantiles = behav['RT'].quantile([0.25,0.75])\n",
    "fastRTs = behav[behav['RT'] <= quantiles[0.25]]\n",
    "fastRTidx = list(fastRTs.index)\n",
    "slowRTs = behav[behav['RT'] >= quantiles[0.75]]\n",
    "slowRTidx = list(slowRTs.index)\n",
    "\n",
    "\n",
    "slowTrials = []\n",
    "for trial in trials:\n",
    "    if trial['ID'] in slowRTidx:\n",
    "        slowTrials.append(trial)\n",
    "        \n",
    "fastTrials = []\n",
    "for trial in trials:\n",
    "    if trial['ID'] in fastRTidx:\n",
    "        fastTrials.append(trial)    "
   ]
  }
 ],
 "metadata": {
  "kernelspec": {
   "display_name": "Python 3",
   "language": "python",
   "name": "python3"
  },
  "language_info": {
   "codemirror_mode": {
    "name": "ipython",
    "version": 3
   },
   "file_extension": ".py",
   "mimetype": "text/x-python",
   "name": "python",
   "nbconvert_exporter": "python",
   "pygments_lexer": "ipython3",
   "version": "3.7.7"
  },
  "toc": {
   "base_numbering": 1,
   "nav_menu": {},
   "number_sections": true,
   "sideBar": true,
   "skip_h1_title": false,
   "title_cell": "Table of Contents",
   "title_sidebar": "Contents",
   "toc_cell": false,
   "toc_position": {},
   "toc_section_display": true,
   "toc_window_display": false
  }
 },
 "nbformat": 4,
 "nbformat_minor": 4
}
