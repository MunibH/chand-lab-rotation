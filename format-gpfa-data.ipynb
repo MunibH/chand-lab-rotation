{
 "cells": [
  {
   "cell_type": "code",
   "execution_count": 78,
   "metadata": {},
   "outputs": [],
   "source": [
    "import numpy as np\n",
    "import quantities as pq\n",
    "import neo\n",
    "import pickle"
   ]
  },
  {
   "cell_type": "markdown",
   "metadata": {},
   "source": [
    "matToCsv.m outputs 1 csv file per trial that contains the spiking data with shape (neurons,time)\n",
    "\n",
    "This script creates a list of dictionaries from the csv files in the form:\n",
    "\n",
    "`trials = [{ID: 1, y: y_1},...,{ID: N, y: y_N}]`\n",
    "\n",
    "Then puts `trials` in the form needed for elephant's GPFA implementation"
   ]
  },
  {
   "cell_type": "code",
   "execution_count": 19,
   "metadata": {},
   "outputs": [],
   "source": [
    "## load trials into list of dictionaries\n",
    "\n",
    "numTrials = 1877\n",
    "numNeurons = 23\n",
    "\n",
    "trials = []\n",
    "for i in range(1,numTrials+1):\n",
    "    filename = 'data/trial' + str(i) + '.csv'\n",
    "    trials.append( {'ID': i, 'y': pd.read_csv(filename,header=None).to_numpy()}   )\n"
   ]
  },
  {
   "cell_type": "markdown",
   "metadata": {},
   "source": [
    "Save trials to pickle file"
   ]
  },
  {
   "cell_type": "code",
   "execution_count": 24,
   "metadata": {},
   "outputs": [],
   "source": [
    "with open('data/trials.pickle', 'wb') as filename:\n",
    "    pickle.dump(trials, filename)"
   ]
  },
  {
   "cell_type": "markdown",
   "metadata": {},
   "source": [
    "Load pickle file"
   ]
  },
  {
   "cell_type": "code",
   "execution_count": 33,
   "metadata": {},
   "outputs": [
    {
     "data": {
      "text/plain": [
       "1877"
      ]
     },
     "execution_count": 33,
     "metadata": {},
     "output_type": "execute_result"
    }
   ],
   "source": [
    "with open('data/trials.pickle', 'rb') as filename:\n",
    "    trials = pickle.load(filename)\n",
    "    \n",
    "numTrials = len(trials)\n",
    "len(trials)"
   ]
  },
  {
   "cell_type": "markdown",
   "metadata": {},
   "source": [
    "Put data in correct form for elephant_gpfa. It wants neo.SpikeTrain objects that hold arrays of spike times:\n",
    "\n",
    "`spiketrains = [[SpikeTrain,...,SpikeTrain],...,[SpikeTrain,...,SpikeTrain]]`\n",
    "\n",
    "where the len(spiketrains) = number of trials and len(spiketrains[trial]) = number of neurons"
   ]
  },
  {
   "cell_type": "markdown",
   "metadata": {},
   "source": [
    "First thing to do is to create spike time arrays"
   ]
  },
  {
   "cell_type": "code",
   "execution_count": 79,
   "metadata": {},
   "outputs": [],
   "source": [
    "def singleNeuronSpikeTrain(neuron):\n",
    "    # return neo.SpikeTrain object for a single trial and single neuron\n",
    "    times = []\n",
    "    for i in range(len(neuron)):\n",
    "        if neuron[i] == 1:\n",
    "            times.append(i)\n",
    "    \n",
    "    return neo.SpikeTrain(times=times, units='ms',t_stop=1603)\n",
    "    \n",
    "\n",
    "def singleTrialSpikeTrain(trial):\n",
    "    # return array of neo.SpikeTrain objects for a single trial and all neurons\n",
    "    st_array = []\n",
    "    for i in range(numNeurons):\n",
    "        st_array.append(singleNeuronSpikeTrain(trial[i]))\n",
    "    \n",
    "    return st_array\n",
    "\n",
    "\n",
    "def fullSpikeTrain(trials):\n",
    "    nested_st_array = []\n",
    "    for i in range(numTrials):\n",
    "        nested_st_array.append(singleTrialSpikeTrain(trials[i]['y']))\n",
    "    \n",
    "    return nested_st_array\n",
    "\n",
    "\n",
    "nested_st_array = fullSpikeTrain(trials)"
   ]
  },
  {
   "cell_type": "markdown",
   "metadata": {},
   "source": [
    "Let's save nested_st_array to a pickle now. This nested array contains SpikeTrain objects that contain spike times"
   ]
  },
  {
   "cell_type": "code",
   "execution_count": 80,
   "metadata": {},
   "outputs": [],
   "source": [
    "with open('data/spikeTimes.pickle', 'wb') as filename:\n",
    "    pickle.dump(nested_st_array, filename)"
   ]
  },
  {
   "cell_type": "markdown",
   "metadata": {},
   "source": [
    "And to load it:"
   ]
  },
  {
   "cell_type": "code",
   "execution_count": 81,
   "metadata": {},
   "outputs": [],
   "source": [
    "with open('data/spikeTimes.pickle', 'rb') as filename:\n",
    "    st = pickle.load(filename)"
   ]
  },
  {
   "cell_type": "code",
   "execution_count": 82,
   "metadata": {},
   "outputs": [
    {
     "name": "stdout",
     "output_type": "stream",
     "text": [
      "[ 224.  721.  732.  758.  775.  780.  790.  814.  818.  830.  842.  846.\n",
      "  866.  873.  880.  888.  900.  921.  931.  959.  961.  981. 1003. 1005.\n",
      " 1032. 1038. 1063. 1098. 1107. 1134. 1147. 1173. 1193. 1212. 1242. 1262.\n",
      " 1281. 1296. 1399. 1481.] ms\n"
     ]
    }
   ],
   "source": [
    "print(st[0][0])"
   ]
  },
  {
   "cell_type": "code",
   "execution_count": null,
   "metadata": {},
   "outputs": [],
   "source": []
  }
 ],
 "metadata": {
  "kernelspec": {
   "display_name": "Python 3",
   "language": "python",
   "name": "python3"
  },
  "language_info": {
   "codemirror_mode": {
    "name": "ipython",
    "version": 3
   },
   "file_extension": ".py",
   "mimetype": "text/x-python",
   "name": "python",
   "nbconvert_exporter": "python",
   "pygments_lexer": "ipython3",
   "version": "3.7.7"
  },
  "toc": {
   "base_numbering": 1,
   "nav_menu": {},
   "number_sections": true,
   "sideBar": true,
   "skip_h1_title": false,
   "title_cell": "Table of Contents",
   "title_sidebar": "Contents",
   "toc_cell": false,
   "toc_position": {},
   "toc_section_display": true,
   "toc_window_display": false
  }
 },
 "nbformat": 4,
 "nbformat_minor": 4
}
